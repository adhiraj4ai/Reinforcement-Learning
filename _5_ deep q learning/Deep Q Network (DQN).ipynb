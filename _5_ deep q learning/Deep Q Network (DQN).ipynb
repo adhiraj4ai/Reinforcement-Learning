{
 "cells": [
  {
   "metadata": {},
   "cell_type": "markdown",
   "source": "# Implementation of Deep Q-Network",
   "id": "71a2f0bdf72b859b"
  },
  {
   "metadata": {
    "ExecuteTime": {
     "end_time": "2024-06-28T04:58:24.603179Z",
     "start_time": "2024-06-28T04:58:24.599540Z"
    }
   },
   "cell_type": "code",
   "source": [
    "# Import Libraries\n",
    "import random\n",
    "import gymnasium as gym\n",
    "import torch\n",
    "import torch.nn as nn\n",
    "import torch.optim as optim\n",
    "from collections import deque\n",
    "from matplotlib import pyplot as plt"
   ],
   "id": "237988d216c05e47",
   "execution_count": 10,
   "outputs": []
  },
  {
   "metadata": {},
   "cell_type": "markdown",
   "source": "## Define Reply Buffer",
   "id": "b5626cf5ac6e5c76"
  },
  {
   "metadata": {
    "ExecuteTime": {
     "end_time": "2024-06-28T04:59:20.668392Z",
     "start_time": "2024-06-28T04:59:20.662690Z"
    }
   },
   "cell_type": "code",
   "source": [
    "class ReplayBuffer:\n",
    "    def __init__(self, buffer_size, batch_size=10000):\n",
    "        self.storage = deque(maxlen=buffer_size)\n",
    "        self.batch_size = batch_size\n",
    "    \n",
    "    def push(self, params: tuple):\n",
    "        self.storage.append(params)\n",
    "    \n",
    "    def extract_samples(self):\n",
    "        experiences = random.sample(self.storage, self.batch_size)\n",
    "        states, actions, rewards, next_states, dones = zip(*experiences)\n",
    "        \n",
    "        return (torch.tensor(states, dtype=torch.float32),\n",
    "                torch.tensor(actions, dtype=torch.float32),\n",
    "                torch.tensor(rewards, dtype=torch.float32),\n",
    "                torch.tensor(next_states, dtype=torch.float32),\n",
    "                torch.tensor(dones, dtype = torch.float32)\n",
    "                )\n",
    "    \n",
    "    def __len__(self):\n",
    "        return len(self.storage)"
   ],
   "id": "56e22f15a24ef8a7",
   "execution_count": 15,
   "outputs": []
  },
  {
   "metadata": {},
   "cell_type": "markdown",
   "source": "## Define Deep Q-Network",
   "id": "70e2cb940833802"
  },
  {
   "metadata": {
    "ExecuteTime": {
     "end_time": "2024-06-28T04:59:21.821011Z",
     "start_time": "2024-06-28T04:59:21.817925Z"
    }
   },
   "cell_type": "code",
   "source": [
    "class DeepQNetwork(nn.Module):\n",
    "    def __init__(self, state_size, action_size):\n",
    "        super(DeepQNetwork, self).__init__()\n",
    "        self.fc1 = nn.Linear(state_size, 64)\n",
    "        self.fc2 = nn.Linear(64, 64)\n",
    "        self.fc3 = nn.Linear(64, action_size)\n",
    "        \n",
    "    def forward(self, state):\n",
    "        x = self.fc1(state)\n",
    "        x = torch.relu(x)\n",
    "        x = self.fc2(x)\n",
    "        x = torch.relu(x)\n",
    "        \n",
    "        return self.fc3(x)"
   ],
   "id": "525f16880e084d7e",
   "execution_count": 16,
   "outputs": []
  },
  {
   "metadata": {},
   "cell_type": "markdown",
   "source": "## Define Deep Q-Learning",
   "id": "77b76c91eb065a02"
  },
  {
   "metadata": {
    "ExecuteTime": {
     "end_time": "2024-06-28T04:59:22.690261Z",
     "start_time": "2024-06-28T04:59:22.679573Z"
    }
   },
   "cell_type": "code",
   "source": [
    "class DeepQLearning:\n",
    "    def __init__(self, env, gamma=0.9, epsilon=0.9, epsilon_min=0.01, epsilon_decay=0.995, alpha=0.001, target_network_update_freq=5, buffer_size=1000, batch_size=64):\n",
    "        self.env = env\n",
    "        self.state_size = env.observation_space.n\n",
    "        self.action_size = env.action_space.n\n",
    "        self.gamma = gamma\n",
    "        self.epsilon = epsilon\n",
    "        self.epsilon_min = epsilon_min\n",
    "        self.epsilon_decay = epsilon_decay\n",
    "        self.alpha = alpha\n",
    "        self.target_network_update_freq = target_network_update_freq\n",
    "        self.replay_buffer = ReplayBuffer(buffer_size)\n",
    "        self.batch_size = batch_size\n",
    "        self.device = torch.device(\"cuda\" if torch.cuda.is_available() else \"cpu\")\n",
    "        \n",
    "        self.q_network = DeepQNetwork(self.state_size, self.action_size).to(self.device)\n",
    "        self.target_q_network = DeepQNetwork(self.state_size, self.action_size).to(self.device)\n",
    "        self.optimizer = optim.Adam(self.q_network.parameters(), lr=self.alpha)\n",
    "        self.update_target_network()\n",
    "        \n",
    "    def epsilon_greedy_policy(self, state):\n",
    "        if random.uniform(0, 1) < self.epsilon:\n",
    "            return self.env.action_space.sample()\n",
    "        else:\n",
    "            state = torch.tensor([state], dtype=torch.float32).to(self.device)\n",
    "            with torch.no_grad():\n",
    "                return torch.argmax(self.q_network(state)).item()\n",
    "        \n",
    "    def update_target_network(self):\n",
    "        self.target_q_network.load_state_dict(self.q_network.state_dict())\n",
    "        \n",
    "    def train_network(self):\n",
    "        states, actions, rewards, next_states, dones = self.replay_buffer.extract_samples(self.batch_size)\n",
    "        \n",
    "        q_values = self.q_network(states).gather(1, actions.unsqueeze(1)).squeeze(1)\n",
    "        next_q_values = self.target_q_network(next_states).max(1)[0]\n",
    "        expected_q_values = rewards + (self.gamma * next_q_values * (1 - dones))\n",
    "        \n",
    "        loss = nn.functional.mse_loss(q_values, expected_q_values.detach())\n",
    "        self.optimizer.zero_grad()\n",
    "        loss.backward()\n",
    "        self.optimizer.step()\n",
    "        \n",
    "    def compute_policy(self, num_of_episodes, max_steps=1000):\n",
    "        rewards_per_episode = []\n",
    "        \n",
    "        for e in range(num_of_episodes):\n",
    "            state, _ = self.env.reset()\n",
    "            episode_reward = 0\n",
    "            \n",
    "            for t in range(max_steps):\n",
    "                action = self.epsilon_greedy_policy(state)\n",
    "                \n",
    "                # Take next step based on action\n",
    "                next_state, reward, done, _, _ = self.env.step(action)\n",
    "                episode_reward += reward\n",
    "                \n",
    "                # Save the state, action, reward, next_state to the replay buffer\n",
    "                self.replay_buffer.push((state, action, reward, next_state, done))\n",
    "                \n",
    "                state = next_state\n",
    "            \n",
    "                if done:\n",
    "                    break\n",
    "                \n",
    "                # Train the network if buffer size is greater than the batch size\n",
    "                if len(self.replay_buffer) > self.batch_size:\n",
    "                    self.train_network()\n",
    "                \n",
    "            self.epsilon = max(self.epsilon_min, self.epsilon * self.epsilon_decay)\n",
    "            rewards_per_episode.append(episode_reward)\n",
    "            \n",
    "            if e % self.target_network_update_freq == 0:\n",
    "                self.update_target_network()\n",
    "        \n",
    "        return rewards_per_episode\n",
    "    \n",
    "    def execute_policy(self, max_steps=100):\n",
    "        state, _ = self.env.reset()\n",
    "        self.env.render()\n",
    "        total_reward = 0\n",
    "        \n",
    "        for _ in range(max_steps):\n",
    "            action = max(range(self.env.action_space.n), key=lambda x: self.q_network(torch.tensor([state], dtype=torch.float32).to(self.device))[x].item())\n",
    "            next_state, reward, done, _, _ = self.env.step(action)\n",
    "            total_reward += reward\n",
    "            self.env.render()\n",
    "            state = next_state\n",
    "            \n",
    "            if done:\n",
    "                break\n",
    "        \n",
    "        print(f\"Total reward: {total_reward}\")\n",
    "        self.env.close()"
   ],
   "id": "8d3731c7a362927",
   "execution_count": 17,
   "outputs": []
  },
  {
   "metadata": {
    "ExecuteTime": {
     "end_time": "2024-06-28T04:59:23.355698Z",
     "start_time": "2024-06-28T04:59:23.274919Z"
    }
   },
   "cell_type": "code",
   "source": [
    "# Example usage\n",
    "env = gym.make('FrozenLake-v1', map_name=\"4x4\", is_slippery=True)\n",
    "agent = DeepQLearning(env)\n",
    "num_of_timesteps = 100\n",
    "num_of_episodes = 1000\n",
    "\n",
    "rewards = agent.compute_policy(num_of_episodes, num_of_timesteps)\n",
    "\n",
    "# Plot the rewards per episode\n",
    "plt.plot(rewards)\n",
    "plt.xlabel('Episode')\n",
    "plt.ylabel('Reward')\n",
    "plt.title('DQN on FrozenLake')\n",
    "plt.show()\n",
    "\n",
    "# Execute the learned policy\n",
    "agent.execute_policy()"
   ],
   "id": "830facacf6c882c8",
   "execution_count": 18,
   "outputs": []
  },
  {
   "metadata": {},
   "cell_type": "markdown",
   "source": "",
   "id": "31444aa82f2e81ec"
  }
 ],
 "metadata": {
  "kernelspec": {
   "display_name": "Python 3",
   "language": "python",
   "name": "python3"
  },
  "language_info": {
   "codemirror_mode": {
    "name": "ipython",
    "version": 2
   },
   "file_extension": ".py",
   "mimetype": "text/x-python",
   "name": "python",
   "nbconvert_exporter": "python",
   "pygments_lexer": "ipython2",
   "version": "2.7.6"
  }
 },
 "nbformat": 4,
 "nbformat_minor": 5
}
