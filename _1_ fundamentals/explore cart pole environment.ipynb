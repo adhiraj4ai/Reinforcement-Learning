{
 "cells": [
  {
   "metadata": {},
   "cell_type": "markdown",
   "source": [
    "# Cart Pole Environment\n",
    "The goal of the Cart Pole problem is to balance the pole placed upright on cart where a cart moves along a frictionless track. \n",
    "\n",
    "Detail documentation on Cart Pole environment [https://gymnasium.farama.org/environments/classic_control/cart_pole/] "
   ],
   "id": "d997048a9a8e45a6"
  },
  {
   "cell_type": "code",
   "id": "initial_id",
   "metadata": {
    "collapsed": true,
    "ExecuteTime": {
     "end_time": "2024-06-01T06:41:44.644983Z",
     "start_time": "2024-06-01T06:41:44.386042Z"
    }
   },
   "source": [
    "# Import gymnasium library\n",
    "import gymnasium as gym\n",
    "\n",
    "SEED = 42"
   ],
   "execution_count": 1,
   "outputs": []
  },
  {
   "metadata": {
    "ExecuteTime": {
     "end_time": "2024-06-01T06:42:34.918585Z",
     "start_time": "2024-06-01T06:42:34.911975Z"
    }
   },
   "cell_type": "code",
   "source": [
    "# Initialize the Frozen Lake Environment\n",
    "env = gym.make('CartPole-v1')"
   ],
   "id": "ee429cb1ed642afb",
   "execution_count": 2,
   "outputs": []
  },
  {
   "metadata": {
    "ExecuteTime": {
     "end_time": "2024-06-01T06:42:48.308229Z",
     "start_time": "2024-06-01T06:42:48.303364Z"
    }
   },
   "cell_type": "code",
   "source": [
    "# Reset an environment to its initial internal state\n",
    "obs, info = env.reset(seed=SEED)\n",
    "\n",
    "# Print the initial position of agent in the environment\n",
    "print(\"The initial observation is: {}\".format(obs))\n",
    "print(\"The information is : {}\".format(info))"
   ],
   "id": "a145a45f18af7794",
   "execution_count": 3,
   "outputs": []
  },
  {
   "metadata": {
    "ExecuteTime": {
     "end_time": "2024-06-01T07:36:02.691190Z",
     "start_time": "2024-06-01T07:36:02.688373Z"
    }
   },
   "cell_type": "code",
   "source": [
    "# Print the Observation space (or state space) and action space \n",
    "print(\"The observation space: {}\".format(env.observation_space))"
   ],
   "id": "9ab36939efbb3045",
   "execution_count": 8,
   "outputs": []
  },
  {
   "metadata": {},
   "cell_type": "markdown",
   "source": [
    "The observation space consists of minimum and maximum value for \n",
    "1. Cart position ( -4.8 to 4.8 ), \n",
    "2. Cart Velocity ( -Inf to Inf ), \n",
    "3. Pole Angle ( ~-0.418 rad to 0.418 rad ), and, \n",
    "4. Pole Angular Velocity ( -Inf to Inf )\n",
    "\n",
    "Box implies that our state space contains continuous values and not discrete values. We can obtain the maximum and minimum values as below:"
   ],
   "id": "b5a75cdf16ecc610"
  },
  {
   "metadata": {
    "ExecuteTime": {
     "end_time": "2024-06-01T06:56:28.886716Z",
     "start_time": "2024-06-01T06:56:28.882161Z"
    }
   },
   "cell_type": "code",
   "source": "print(env.observation_space.high, env.observation_space.low)",
   "id": "48b2b0d5abcab449",
   "execution_count": 7,
   "outputs": []
  },
  {
   "metadata": {},
   "cell_type": "markdown",
   "source": [
    "And the action space in Cart Pole is discrete and contains two discrete values as:\n",
    "1. 0: Push cart to the left\n",
    "2. 1: Push cart to the right"
   ],
   "id": "9bebd97896f8fd05"
  },
  {
   "metadata": {
    "ExecuteTime": {
     "end_time": "2024-06-01T07:36:50.844435Z",
     "start_time": "2024-06-01T07:36:50.840547Z"
    }
   },
   "cell_type": "code",
   "source": "print(\"The action space: {}\".format(env.action_space))\n",
   "id": "670cbe92fbea95db",
   "execution_count": 10,
   "outputs": []
  },
  {
   "metadata": {},
   "cell_type": "markdown",
   "source": "# Cart Pole Balancing with Random Policy in multiple episode",
   "id": "80d14cbc97182b65"
  },
  {
   "metadata": {
    "ExecuteTime": {
     "end_time": "2024-06-01T08:18:21.207Z",
     "start_time": "2024-06-01T08:18:21.026058Z"
    }
   },
   "cell_type": "code",
   "source": [
    "# define action map\n",
    "action_map = {\n",
    "    0: 'left',\n",
    "    1: 'right',\n",
    "}\n",
    "\n",
    "# Number of times the agent moves\n",
    "num_timestep = 50\n",
    "\n",
    "# Number of episodes\n",
    "num_episodes = 100\n",
    "\n",
    "for e in range(num_episodes):\n",
    "    print(\"-----------------------------------\")\n",
    "    print(\"Episode {}/{}\".format(e, num_episodes))\n",
    "    print(\"-----------------------------------\")\n",
    "    \n",
    "    # Initialize the return\n",
    "    RETURN = 0\n",
    "    \n",
    "    # Initialize the state by resetting the environment\n",
    "    state = env.reset(seed=SEED)\n",
    "    \n",
    "    # We take a random step for each episode\n",
    "    for t in range(num_timestep):\n",
    "        print(\"timestep: {} of episode: {}\".format(t+1, e))\n",
    "        print(\"-----------------------------------------------------\")\n",
    "        \n",
    "        # select random action\n",
    "        random_action = env.action_space.sample()\n",
    "        \n",
    "        # Take the action and get the new observation space\n",
    "        next_state, reward, done, info, transition_prob = env.step(random_action)\n",
    "        \n",
    "        print(\"Action: {}\".format(action_map[random_action]))\n",
    "        print(\"Next State: {}\".format(next_state))\n",
    "        print(\"Reward: {}\".format(reward))\n",
    "        print(\"\")\n",
    "        \n",
    "        RETURN = RETURN + reward\n",
    "        \n",
    "        # if the agent moves to hole state, then terminate\n",
    "        if done: \n",
    "            break\n",
    "    \n",
    "    if e % 10 == 0:\n",
    "        print(\"****************************************************\")\n",
    "        print(\"Episode: {}, Return: {}\".format(e, RETURN))\n",
    "        print(\"****************************************************\")\n",
    "    \n",
    "    env.close()\n",
    "    "
   ],
   "id": "7684e0833d100dfe",
   "execution_count": 16,
   "outputs": []
  },
  {
   "metadata": {
    "ExecuteTime": {
     "end_time": "2024-06-01T08:20:44.845582Z",
     "start_time": "2024-06-01T08:20:44.843047Z"
    }
   },
   "cell_type": "code",
   "source": [
    "\n",
    "print(\"****************************************************\")\n",
    "print(\"Final reward after episode: {}, Return: {}\".format(num_episodes, RETURN))\n",
    "print(\"****************************************************\")"
   ],
   "id": "b65a5a460ce10c3b",
   "execution_count": 20,
   "outputs": []
  },
  {
   "metadata": {},
   "cell_type": "code",
   "execution_count": null,
   "source": "",
   "id": "55e33b8fc5ac58f9",
   "outputs": []
  }
 ],
 "metadata": {
  "kernelspec": {
   "display_name": "Python 3",
   "language": "python",
   "name": "python3"
  },
  "language_info": {
   "codemirror_mode": {
    "name": "ipython",
    "version": 2
   },
   "file_extension": ".py",
   "mimetype": "text/x-python",
   "name": "python",
   "nbconvert_exporter": "python",
   "pygments_lexer": "ipython2",
   "version": "2.7.6"
  }
 },
 "nbformat": 4,
 "nbformat_minor": 5
}
