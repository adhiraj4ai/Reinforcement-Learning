{
 "cells": [
  {
   "metadata": {
    "ExecuteTime": {
     "end_time": "2024-09-19T14:34:14.278435Z",
     "start_time": "2024-09-19T14:34:13.988571Z"
    }
   },
   "cell_type": "code",
   "source": [
    "# import required libraries\n",
    "import gymnasium as gym\n",
    "import numpy as np\n",
    "\n",
    "# set seed\n",
    "SEED = 106"
   ],
   "id": "19aff06715285ff6",
   "outputs": [],
   "execution_count": 1
  },
  {
   "metadata": {
    "ExecuteTime": {
     "end_time": "2024-09-19T14:34:14.285364Z",
     "start_time": "2024-09-19T14:34:14.280322Z"
    }
   },
   "cell_type": "code",
   "source": [
    "# Initialize the Frozen Lake Environment\n",
    "env = gym.make('FrozenLake-v1', map_name=\"4x4\", is_slippery=True, render_mode='ansi')"
   ],
   "id": "822faed246655ae8",
   "outputs": [],
   "execution_count": 2
  },
  {
   "metadata": {
    "ExecuteTime": {
     "end_time": "2024-09-19T14:34:14.289744Z",
     "start_time": "2024-09-19T14:34:14.286288Z"
    }
   },
   "cell_type": "code",
   "source": [
    "env.reset(seed=SEED)\n",
    "print(env.render())"
   ],
   "id": "1939223f94cf4230",
   "outputs": [
    {
     "name": "stdout",
     "output_type": "stream",
     "text": [
      "\n",
      "\u001B[41mS\u001B[0mFFF\n",
      "FHFH\n",
      "FFFH\n",
      "HFFG\n",
      "\n"
     ]
    }
   ],
   "execution_count": 3
  },
  {
   "metadata": {
    "ExecuteTime": {
     "end_time": "2024-09-19T14:34:14.295883Z",
     "start_time": "2024-09-19T14:34:14.290902Z"
    }
   },
   "cell_type": "code",
   "source": [
    "def value_iteration(env, num_of_iterations = 100, gamma = 1.0, threshold = 1e-40):\n",
    "    \"\"\"\n",
    "    Value iteration algorithm to compute the value table\n",
    "    :param env: environment for an agent\n",
    "    :param num_of_iterations: number of iterations\n",
    "    :param gamma: discount factor\n",
    "    :param threshold: threshold value to stop iterations\n",
    "    :return: value table\n",
    "    \"\"\"\n",
    "    # Get no. of state and actions in an environment\n",
    "    num_of_states = env.observation_space.n\n",
    "    num_of_actions = env.action_space.n\n",
    "    \n",
    "    print('Number of states: ', num_of_states)\n",
    "    print('Number of actions: ', num_of_actions)\n",
    "    \n",
    "    # Initialize value table with zero for each state\n",
    "    value_table = np.zeros(num_of_states)\n",
    "    \n",
    "    # Perform value iteration for num_of_iterations\n",
    "    for i in range(num_of_iterations):\n",
    "        updated_value_table = np.copy(value_table)\n",
    "        \n",
    "        # Compute q value for each state\n",
    "        for state in range(num_of_states):\n",
    "            \n",
    "            # initialize q values\n",
    "            q_values = []\n",
    "            \n",
    "            # for each action in the state, compute q value\n",
    "            for action in range(num_of_actions):\n",
    "                \n",
    "                # Initialize q value to 0\n",
    "                q_value = 0    \n",
    "                for prob, next_state, reward, _ in env.unwrapped.P[state][action]:\n",
    "                    # Compute bellman backup\n",
    "                    bellman_backup = reward + gamma * updated_value_table[next_state]\n",
    "                    \n",
    "                    # Obtain q value\n",
    "                    q_value += prob * bellman_backup\n",
    "                 \n",
    "                # append q value to the list of q values   \n",
    "                q_values.append(q_value)\n",
    "                \n",
    "            value_table[state] = max(q_values)\n",
    "            \n",
    "        # Check for convergence\n",
    "        if np.sum(np.fabs(updated_value_table - value_table)) <= threshold:\n",
    "            print(\"Exeuction halted in iteration {} \".format(i))\n",
    "            break\n",
    "                \n",
    "    return value_table\n"
   ],
   "id": "d38b2555a809950a",
   "outputs": [],
   "execution_count": 4
  },
  {
   "metadata": {
    "ExecuteTime": {
     "end_time": "2024-09-19T14:34:14.309206Z",
     "start_time": "2024-09-19T14:34:14.298453Z"
    }
   },
   "cell_type": "code",
   "source": [
    "# Print Value Table\n",
    "optimal_value_table = value_iteration(env, num_of_iterations = 100)\n",
    "print(optimal_value_table)"
   ],
   "id": "62cda843340685b5",
   "outputs": [
    {
     "name": "stdout",
     "output_type": "stream",
     "text": [
      "Number of states:  16\n",
      "Number of actions:  4\n",
      "[0.74419029 0.71786905 0.69921264 0.68954284 0.74998193 0.\n",
      " 0.47290225 0.         0.7611395  0.7768436  0.72358054 0.\n",
      " 0.         0.84920568 0.9239777  0.        ]\n"
     ]
    }
   ],
   "execution_count": 5
  },
  {
   "metadata": {
    "ExecuteTime": {
     "end_time": "2024-09-19T14:34:14.314105Z",
     "start_time": "2024-09-19T14:34:14.310378Z"
    }
   },
   "cell_type": "code",
   "source": [
    "def extract_policy(env, value_table, gamma = 1.0):\n",
    "    # Get no. of state and actions in an environment\n",
    "    num_of_states = env.observation_space.n\n",
    "    num_of_actions = env.action_space.n\n",
    "    \n",
    "    policy = np.zeros(num_of_states)\n",
    "    \n",
    "    for state in range(num_of_states):\n",
    "        q_values = []\n",
    "        \n",
    "        for action in range(num_of_actions):\n",
    "            q_value = 0\n",
    "            for prob, next_state, reward, _ in env.unwrapped.P[state][action]:\n",
    "                # print(f\"Next State: {next_state}\")\n",
    "                # print(f\"Reward: {reward}\")\n",
    "                # print(f\"probability: {prob}\")\n",
    "                # Compute bellman backup\n",
    "                bellman_backup = reward + gamma * value_table[next_state]\n",
    "                \n",
    "                # Obtain q value\n",
    "                q_value += prob * bellman_backup\n",
    "            \n",
    "            # append q value to the list of q values\n",
    "            q_values.append(q_value)\n",
    "        \n",
    "        policy[state] = np.argmax(np.array(q_values))\n",
    "        \n",
    "    return policy"
   ],
   "id": "99441d78214d27f9",
   "outputs": [],
   "execution_count": 6
  },
  {
   "metadata": {
    "ExecuteTime": {
     "end_time": "2024-09-19T14:34:14.317407Z",
     "start_time": "2024-09-19T14:34:14.314897Z"
    }
   },
   "cell_type": "code",
   "source": [
    "optimal_policy = extract_policy(env, optimal_value_table)\n",
    "print(optimal_policy)"
   ],
   "id": "84dff21280842d9",
   "outputs": [
    {
     "name": "stdout",
     "output_type": "stream",
     "text": [
      "[0. 3. 3. 3. 0. 0. 0. 0. 3. 1. 0. 0. 0. 2. 1. 0.]\n"
     ]
    }
   ],
   "execution_count": 7
  },
  {
   "metadata": {
    "ExecuteTime": {
     "end_time": "2024-09-19T14:34:14.320255Z",
     "start_time": "2024-09-19T14:34:14.318524Z"
    }
   },
   "cell_type": "code",
   "source": "",
   "id": "9a2bdc68475ad1da",
   "outputs": [],
   "execution_count": 7
  }
 ],
 "metadata": {
  "kernelspec": {
   "display_name": "Python 3",
   "language": "python",
   "name": "python3"
  },
  "language_info": {
   "codemirror_mode": {
    "name": "ipython",
    "version": 2
   },
   "file_extension": ".py",
   "mimetype": "text/x-python",
   "name": "python",
   "nbconvert_exporter": "python",
   "pygments_lexer": "ipython2",
   "version": "2.7.6"
  }
 },
 "nbformat": 4,
 "nbformat_minor": 5
}
