{
 "cells": [
  {
   "cell_type": "code",
   "id": "initial_id",
   "metadata": {
    "collapsed": true,
    "ExecuteTime": {
     "end_time": "2024-06-25T14:56:07.143753Z",
     "start_time": "2024-06-25T14:56:07.139761Z"
    }
   },
   "source": [
    "import gymnasium as gym\n",
    "import numpy as np\n",
    "import pandas as pd\n",
    "import random\n",
    "from matplotlib import pyplot as plt\n",
    "\n",
    "# set seed\n",
    "SEED = 106\n",
    "\n",
    "random.seed(SEED)"
   ],
   "outputs": [],
   "execution_count": 17
  },
  {
   "metadata": {
    "ExecuteTime": {
     "end_time": "2024-06-25T14:55:49.936293Z",
     "start_time": "2024-06-25T14:55:49.931787Z"
    }
   },
   "cell_type": "code",
   "source": [
    "env = gym.make(\n",
    "    'FrozenLake-v1', map_name=\"4x4\", is_slippery=True, render_mode = 'ansi'\n",
    ")\n",
    "env.reset(seed=SEED)\n",
    "print(env.render())"
   ],
   "id": "3bc96e3a744c204c",
   "outputs": [
    {
     "name": "stdout",
     "output_type": "stream",
     "text": [
      "\n",
      "\u001B[41mS\u001B[0mFFF\n",
      "FHFH\n",
      "FFFH\n",
      "HFFG\n",
      "\n"
     ]
    }
   ],
   "execution_count": 12
  },
  {
   "metadata": {
    "ExecuteTime": {
     "end_time": "2024-06-25T15:35:56.421785Z",
     "start_time": "2024-06-25T15:35:56.408596Z"
    }
   },
   "cell_type": "code",
   "source": [
    "class DoubleQLearning:\n",
    "    def __init__(self, env, alpha = 0.1, gamma=0.9, epsilon=0.9):\n",
    "        self.env = env\n",
    "        self.alpha = alpha\n",
    "        self.gamma = gamma\n",
    "        self.epsilon = epsilon\n",
    "        self.q1_values = self.init_q_values()\n",
    "        self.q2_values = self.init_q_values()\n",
    "        \n",
    "    def init_q_values(self):\n",
    "        return {\n",
    "            (state, action): 0.0 for state in range(self.env.observation_space.n) for action in range(self.env.action_space.n)\n",
    "        }\n",
    "        \n",
    "    def epsilon_greedy(self, state):\n",
    "        if random.uniform(0, 1) < self.epsilon:\n",
    "            return self.env.action_space.sample()\n",
    "        else:\n",
    "            return max(\n",
    "                range(self.env.action_space.n), key= lambda x: self.q1_values[(state, x)] + self.q2_values[(state, x)]\n",
    "            )\n",
    "    \n",
    "    def compute_policy(self, num_of_timesteps, num_of_episodes):\n",
    "        # Initialize placeholder for rewards\n",
    "        rewards_per_episode = []\n",
    "        \n",
    "        for _ in range(num_of_episodes):\n",
    "            state, _ = self.env.reset()\n",
    "            episode_reward = 0\n",
    "            \n",
    "            for t in range(num_of_episodes):\n",
    "                action = self.epsilon_greedy(state)\n",
    "                \n",
    "                next_state, reward, done, _, _ = self.env.step(action)\n",
    "                episode_reward += reward\n",
    "                \n",
    "                if random.uniform(0, 1) < 0.5:\n",
    "                    next_action = max(range(self.env.action_space.n), key=lambda x: self.q1_values[(next_state, x)])\n",
    "                    self.q1_values[(state, action)] += self.alpha * (reward + self.gamma * self.q2_values[next_state, next_action] - self.q1_values[(state, action)])\n",
    "                else:\n",
    "                    next_action = max(range(self.env.action_space.n), key=lambda x: self.q2_values[(next_state, x)])\n",
    "                    self.q2_values[(state, action)] += self.alpha * (reward + self.gamma * self.q1_values[next_state, next_action] - self.q2_values[(state, action)])\n",
    "                \n",
    "                # Move to the next state\n",
    "                state = next_state\n",
    "                \n",
    "                if done:\n",
    "                    break\n",
    "            \n",
    "        rewards_per_episode.append(episode_reward)\n",
    "    \n",
    "    def execute_policy(self, max_steps=100):\n",
    "        state, _ = self.env.reset()\n",
    "        self.env.render()\n",
    "        total_reward = 0\n",
    "        \n",
    "        for _ in range(max_steps):\n",
    "            action = max(range(self.env.action_space.n), key=lambda x: self.q1_values[(state, x)] + self.q2_values[(state, x)])\n",
    "            next_state, reward, done, _, _ = self.env.step(action)\n",
    "            total_reward += reward\n",
    "            self.env.render()\n",
    "            state = next_state\n",
    "            \n",
    "            if done:\n",
    "                break\n",
    "        \n",
    "        print(f\"Total reward: {total_reward}\")\n",
    "        self.env.close()"
   ],
   "id": "6698ddd2228df1c3",
   "outputs": [],
   "execution_count": 43
  },
  {
   "metadata": {
    "ExecuteTime": {
     "end_time": "2024-06-25T15:36:10.348229Z",
     "start_time": "2024-06-25T15:35:56.817396Z"
    }
   },
   "cell_type": "code",
   "source": [
    "# Parameters\n",
    "alpha = 0.03\n",
    "gamma = 0.9\n",
    "epsilon = 0.5\n",
    "num_of_episodes = 100000\n",
    "num_of_timesteps = 100\n",
    "\n",
    "# Initialize the Frozen Lake Environment\n",
    "env = gym.make('FrozenLake-v1', map_name=\"4x4\", is_slippery=True)\n",
    "env.reset()\n",
    "\n",
    "# Create SARSA model\n",
    "model = DoubleQLearning(env, alpha=alpha, gamma=gamma, epsilon=epsilon)\n",
    "\n",
    "# Compute policy and store Q-values\n",
    "rewards_per_episode = model.compute_policy(num_of_timesteps, num_of_episodes)\n",
    "\n",
    "model.execute_policy()"
   ],
   "id": "58cca90822823ae6",
   "outputs": [
    {
     "name": "stdout",
     "output_type": "stream",
     "text": [
      "Total reward: 0.0\n"
     ]
    }
   ],
   "execution_count": 44
  },
  {
   "metadata": {
    "ExecuteTime": {
     "end_time": "2024-06-25T15:36:59.895526Z",
     "start_time": "2024-06-25T15:36:59.892231Z"
    }
   },
   "cell_type": "code",
   "source": [
    "# Display the learned policy\n",
    "policy = np.zeros(env.observation_space.n, dtype=int)\n",
    "for state in range(env.observation_space.n):\n",
    "    policy[state] = np.argmax([model.q1_values[(state, a)] for a in range(env.action_space.n)])\n",
    "\n",
    "print(\"Learned Policy:\")\n",
    "print(policy.reshape((4, 4)))  # Reshape according to FrozenLake's 4x4 grid"
   ],
   "id": "40a62e5343ff5dc2",
   "outputs": [
    {
     "name": "stdout",
     "output_type": "stream",
     "text": [
      "Learned Policy:\n",
      "[[0 3 1 3]\n",
      " [0 0 1 0]\n",
      " [1 1 0 0]\n",
      " [0 2 1 0]]\n"
     ]
    }
   ],
   "execution_count": 48
  },
  {
   "metadata": {},
   "cell_type": "code",
   "outputs": [],
   "execution_count": null,
   "source": "",
   "id": "3b4b97f490bdfabb"
  }
 ],
 "metadata": {
  "kernelspec": {
   "display_name": "Python 3",
   "language": "python",
   "name": "python3"
  },
  "language_info": {
   "codemirror_mode": {
    "name": "ipython",
    "version": 2
   },
   "file_extension": ".py",
   "mimetype": "text/x-python",
   "name": "python",
   "nbconvert_exporter": "python",
   "pygments_lexer": "ipython2",
   "version": "2.7.6"
  }
 },
 "nbformat": 4,
 "nbformat_minor": 5
}
